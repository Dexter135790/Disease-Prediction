{
 "cells": [
  {
   "attachments": {},
   "cell_type": "markdown",
   "metadata": {},
   "source": [
    "Predicting the health condition by using the pickle format file"
   ]
  },
  {
   "cell_type": "code",
   "execution_count": 4,
   "metadata": {},
   "outputs": [
    {
     "name": "stderr",
     "output_type": "stream",
     "text": [
      "/Users/dhirajbarela/Library/Python/3.9/lib/python/site-packages/sklearn/base.py:439: UserWarning: X does not have valid feature names, but LogisticRegression was fitted with feature names\n",
      "  warnings.warn(\n"
     ]
    }
   ],
   "source": [
    "import pickle"
   ]
  },
  {
   "cell_type": "code",
   "execution_count": 5,
   "metadata": {},
   "outputs": [
    {
     "data": {
      "text/plain": [
       "array(['Heart attack'], dtype=object)"
      ]
     },
     "execution_count": 5,
     "metadata": {},
     "output_type": "execute_result"
    }
   ],
   "source": [
    "X_test = [[0,0,1,0,1,0,0, 0, 0, 0, 1, 0, 0, 0, 1, 0, 1, 0, 0, 0, 0, 0, 0, 0, 0, 0, 0, 0, 0, 0, 0, 0, 0, 0, 0, 0, 0, 0, 0, 0, 0, 0, 0, 0, 0, 0, 1, 0, 0, 0, 0, 0, 0, 0, 0, 0, 0, 0, 0, 0, 0, 0, 0, 1, 0, 0, 0, 0, 0, 0, 0, 0, 0, 0, 0, 0, 0, 0, 0, 0, 0, 0, 0, 0, 0, 0, 0, 0, 0, 0, 0, 0, 0, 0, 0, 0, 0, 0, 0, 1, 1, 0, 0, 0, 1, 0, 0, 0, 0, 0, 0, 0,0, 1, 0, 0, 0, 0, 0, 0, 0, 0, 0, 0, 0, 0, 0, 0, 0, 0, 0, 0, 0, 0, 0, 0 ]]\n",
    "\n",
    "# Load the saved model from the pickle file\n",
    "with open('my_model.pkl', 'rb') as f:\n",
    "    loaded_model = pickle.load(f)\n",
    "\n",
    "# Use the loaded model for prediction\n",
    "prediction = loaded_model.predict(X_test)"
   ]
  },
  {
   "cell_type": "code",
   "execution_count": 6,
   "metadata": {},
   "outputs": [
    {
     "name": "stdout",
     "output_type": "stream",
     "text": [
      "['', 'itching', 'Male', 'Female', 'Age(1-20)', 'Age(21-40)', 'Age(40-above)', ' skin_rash', ' nodal_skin_eruptions', ' dischromic _patches', ' continuous_sneezing', ' shivering', ' chills', ' watering_from_eyes', ' stomach_pain', ' acidity', ' ulcers_on_tongue', ' vomiting', ' cough', ' chest_pain', ' yellowish_skin', ' nausea', ' loss_of_appetite', ' abdominal_pain', ' yellowing_of_eyes', ' burning_micturition', ' spotting_ urination', ' passage_of_gases', ' internal_itching', ' indigestion', ' muscle_wasting', ' patches_in_throat', ' high_fever', ' extra_marital_contacts', ' fatigue', ' weight_loss', ' restlessness', ' lethargy', ' irregular_sugar_level', ' blurred_and_distorted_vision', ' obesity', ' excessive_hunger', ' increased_appetite', ' polyuria', ' sunken_eyes', ' dehydration', ' diarrhoea', ' breathlessness', ' family_history', ' mucoid_sputum', ' headache', ' dizziness', ' loss_of_balance', ' lack_of_concentration', ' stiff_neck', ' depression', ' irritability', ' visual_disturbances', ' back_pain', ' weakness_in_limbs', ' neck_pain', ' weakness_of_one_body_side', ' altered_sensorium', ' dark_urine', ' sweating', ' muscle_pain', ' mild_fever', ' swelled_lymph_nodes', ' malaise', ' red_spots_over_body', ' joint_pain', ' pain_behind_the_eyes', ' constipation', ' toxic_look_(typhos)', ' belly_pain', ' yellow_urine', ' receiving_blood_transfusion', ' receiving_unsterile_injections', ' coma', ' stomach_bleeding', ' acute_liver_failure', ' swelling_of_stomach', ' distention_of_abdomen', ' history_of_alcohol_consumption', ' fluid_overload', ' phlegm', ' blood_in_sputum', ' throat_irritation', ' redness_of_eyes', ' sinus_pressure', ' runny_nose', ' congestion', ' loss_of_smell', ' fast_heart_rate', ' rusty_sputum', ' pain_during_bowel_movements', ' pain_in_anal_region', ' bloody_stool', ' irritation_in_anus', ' cramps', ' bruising', ' swollen_legs', ' swollen_blood_vessels', ' prominent_veins_on_calf', ' weight_gain', ' cold_hands_and_feets', ' mood_swings', ' puffy_face_and_eyes', ' enlarged_thyroid', ' brittle_nails', ' swollen_extremeties', ' abnormal_menstruation', ' muscle_weakness', ' anxiety', ' slurred_speech', ' palpitations', ' drying_and_tingling_lips', ' knee_pain', ' hip_joint_pain', ' swelling_joints', ' painful_walking', ' movement_stiffness', ' spinning_movements', ' unsteadiness', ' pus_filled_pimples', ' blackheads', ' scurring', ' bladder_discomfort', ' foul_smell_of urine', ' continuous_feel_of_urine', ' skin_peeling', ' silver_like_dusting', ' small_dents_in_nails', ' inflammatory_nails', ' blister', ' red_sore_around_nose', ' yellow_crust_ooze', 'Disease']\n"
     ]
    }
   ],
   "source": [
    "import csv\n",
    "\n",
    "# Open the CSV file\n",
    "with open('Datasets/changesInGet/modifyNewColumn.csv', 'r') as csvfile:\n",
    "    # Create a CSV reader object\n",
    "    csvreader = csv.reader(csvfile)\n",
    "\n",
    "    # Get the column headings from the first row\n",
    "    headings = next(csvreader)\n",
    "\n",
    "    # Print the column headings\n",
    "    print(headings)\n"
   ]
  },
  {
   "cell_type": "code",
   "execution_count": 8,
   "metadata": {},
   "outputs": [
    {
     "name": "stdout",
     "output_type": "stream",
     "text": [
      "\n",
      "itching\n",
      "Male\n",
      "Female\n",
      "Age(1-20)\n",
      "Age(21-40)\n",
      "Age(40-above)\n",
      " skin_rash\n",
      " nodal_skin_eruptions\n",
      " dischromic _patches\n",
      " continuous_sneezing\n",
      " shivering\n",
      " chills\n",
      " watering_from_eyes\n",
      " stomach_pain\n",
      " acidity\n",
      " ulcers_on_tongue\n",
      " vomiting\n",
      " cough\n",
      " chest_pain\n",
      " yellowish_skin\n",
      " nausea\n",
      " loss_of_appetite\n",
      " abdominal_pain\n",
      " yellowing_of_eyes\n",
      " burning_micturition\n",
      " spotting_ urination\n",
      " passage_of_gases\n",
      " internal_itching\n",
      " indigestion\n",
      " muscle_wasting\n",
      " patches_in_throat\n",
      " high_fever\n",
      " extra_marital_contacts\n",
      " fatigue\n",
      " weight_loss\n",
      " restlessness\n",
      " lethargy\n",
      " irregular_sugar_level\n",
      " blurred_and_distorted_vision\n",
      " obesity\n",
      " excessive_hunger\n",
      " increased_appetite\n",
      " polyuria\n",
      " sunken_eyes\n",
      " dehydration\n",
      " diarrhoea\n",
      " breathlessness\n",
      " family_history\n",
      " mucoid_sputum\n",
      " headache\n",
      " dizziness\n",
      " loss_of_balance\n",
      " lack_of_concentration\n",
      " stiff_neck\n",
      " depression\n",
      " irritability\n",
      " visual_disturbances\n",
      " back_pain\n",
      " weakness_in_limbs\n",
      " neck_pain\n",
      " weakness_of_one_body_side\n",
      " altered_sensorium\n",
      " dark_urine\n",
      " sweating\n",
      " muscle_pain\n",
      " mild_fever\n",
      " swelled_lymph_nodes\n",
      " malaise\n",
      " red_spots_over_body\n",
      " joint_pain\n",
      " pain_behind_the_eyes\n",
      " constipation\n",
      " toxic_look_(typhos)\n",
      " belly_pain\n",
      " yellow_urine\n",
      " receiving_blood_transfusion\n",
      " receiving_unsterile_injections\n",
      " coma\n",
      " stomach_bleeding\n",
      " acute_liver_failure\n",
      " swelling_of_stomach\n",
      " distention_of_abdomen\n",
      " history_of_alcohol_consumption\n",
      " fluid_overload\n",
      " phlegm\n",
      " blood_in_sputum\n",
      " throat_irritation\n",
      " redness_of_eyes\n",
      " sinus_pressure\n",
      " runny_nose\n",
      " congestion\n",
      " loss_of_smell\n",
      " fast_heart_rate\n",
      " rusty_sputum\n",
      " pain_during_bowel_movements\n",
      " pain_in_anal_region\n",
      " bloody_stool\n",
      " irritation_in_anus\n",
      " cramps\n",
      " bruising\n",
      " swollen_legs\n",
      " swollen_blood_vessels\n",
      " prominent_veins_on_calf\n",
      " weight_gain\n",
      " cold_hands_and_feets\n",
      " mood_swings\n",
      " puffy_face_and_eyes\n",
      " enlarged_thyroid\n",
      " brittle_nails\n",
      " swollen_extremeties\n",
      " abnormal_menstruation\n",
      " muscle_weakness\n",
      " anxiety\n",
      " slurred_speech\n",
      " palpitations\n",
      " drying_and_tingling_lips\n",
      " knee_pain\n",
      " hip_joint_pain\n",
      " swelling_joints\n",
      " painful_walking\n",
      " movement_stiffness\n",
      " spinning_movements\n",
      " unsteadiness\n",
      " pus_filled_pimples\n",
      " blackheads\n",
      " scurring\n",
      " bladder_discomfort\n",
      " foul_smell_of urine\n",
      " continuous_feel_of_urine\n",
      " skin_peeling\n",
      " silver_like_dusting\n",
      " small_dents_in_nails\n",
      " inflammatory_nails\n",
      " blister\n",
      " red_sore_around_nose\n",
      " yellow_crust_ooze\n",
      "Disease\n"
     ]
    }
   ],
   "source": [
    "import csv\n",
    "\n",
    "# Open the CSV file\n",
    "with open('Datasets/changesInGet/modifyNewColumn.csv', 'r') as csvfile:\n",
    "    # Create a CSV reader object\n",
    "    csvreader = csv.reader(csvfile)\n",
    "\n",
    "    # Get the column headings from the first row\n",
    "    headings = next(csvreader)\n",
    "\n",
    "    # Print the column headings vertically, word by word\n",
    "    for word in headings:\n",
    "        print(word)\n",
    "        \n"
   ]
  }
 ],
 "metadata": {
  "kernelspec": {
   "display_name": "Python 3",
   "language": "python",
   "name": "python3"
  },
  "language_info": {
   "codemirror_mode": {
    "name": "ipython",
    "version": 3
   },
   "file_extension": ".py",
   "mimetype": "text/x-python",
   "name": "python",
   "nbconvert_exporter": "python",
   "pygments_lexer": "ipython3",
   "version": "3.9.6"
  },
  "orig_nbformat": 4
 },
 "nbformat": 4,
 "nbformat_minor": 2
}
